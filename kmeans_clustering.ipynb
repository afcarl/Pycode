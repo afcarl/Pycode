{
 "metadata": {
  "name": "kmeans_clustering.ipynb"
 },
 "nbformat": 3,
 "nbformat_minor": 0,
 "worksheets": [
  {
   "cells": [
    {
     "cell_type": "code",
     "collapsed": false,
     "input": [
      "import numpy as np\n",
      "import pandas as pd"
     ],
     "language": "python",
     "metadata": {},
     "outputs": [],
     "prompt_number": 1
    },
    {
     "cell_type": "code",
     "collapsed": false,
     "input": [
      "data = pd.read_csv('C:\\\\Users\\\\Omkar\\\\Documents\\\\GitHub\\\\Pycode\\\\riply_trn.csv')"
     ],
     "language": "python",
     "metadata": {},
     "outputs": [],
     "prompt_number": 6
    },
    {
     "cell_type": "code",
     "collapsed": false,
     "input": [
      "data.transpose()"
     ],
     "language": "python",
     "metadata": {},
     "outputs": [
      {
       "html": [
        "<pre>\n",
        "&lt;class 'pandas.core.frame.DataFrame'&gt;\n",
        "Index: 250 entries, 0.051008 to -0.4025\n",
        "Data columns (total 2 columns):\n",
        "0    250  non-null values\n",
        "1    250  non-null values\n",
        "dtypes: float64(2)\n",
        "</pre>"
       ],
       "output_type": "pyout",
       "prompt_number": 13,
       "text": [
        "<class 'pandas.core.frame.DataFrame'>\n",
        "Index: 250 entries, 0.051008 to -0.4025\n",
        "Data columns (total 2 columns):\n",
        "0    250  non-null values\n",
        "1    250  non-null values\n",
        "dtypes: float64(2)"
       ]
      }
     ],
     "prompt_number": 13
    },
    {
     "cell_type": "code",
     "collapsed": false,
     "input": [
      "data=data.transpose()\n"
     ],
     "language": "python",
     "metadata": {},
     "outputs": [],
     "prompt_number": 17
    },
    {
     "cell_type": "code",
     "collapsed": false,
     "input": [
      "data[1]"
     ],
     "language": "python",
     "metadata": {},
     "outputs": [
      {
       "output_type": "pyout",
       "prompt_number": 19,
       "text": [
        "0.051008    1\n",
        "-0.74807    1\n",
        "-0.77293    1\n",
        "0.21837     1\n",
        "0.37268     1\n",
        "-0.62932    1\n",
        "-0.43307    1\n",
        "-0.84152    1\n",
        "0.47526     1\n",
        "0.32083     1\n",
        "0.32061     1\n",
        "-0.89077    1\n",
        "0.1785      1\n",
        "0.31558     1\n",
        "0.55777     1\n",
        "...\n",
        "0.42286     2\n",
        "0.29815     2\n",
        "0.37128     2\n",
        "-0.51529    2\n",
        "0.38526     2\n",
        "-0.34825    2\n",
        "0.68511     2\n",
        "-0.36529    2\n",
        "-0.40904    2\n",
        "0.43574     2\n",
        "0.26888     2\n",
        "-0.49255    2\n",
        "0.07616     2\n",
        "0.49226     2\n",
        "-0.4025     2\n",
        "Name: 1, Length: 250, dtype: float64"
       ]
      },
      {
       "output_type": "stream",
       "stream": "stdout",
       "text": [
        "\n",
        "Caching the list of root modules, please wait!\n",
        "(This will only be done once - type '%rehashx' to reset cache!)\n",
        "\n"
       ]
      }
     ],
     "prompt_number": 19
    },
    {
     "cell_type": "code",
     "collapsed": false,
     "input": [
      "from scipy.io import loadmat"
     ],
     "language": "python",
     "metadata": {},
     "outputs": [],
     "prompt_number": 22
    },
    {
     "cell_type": "code",
     "collapsed": false,
     "input": [
      "cd C:\\\\Users\\\\Omkar\\\\Documents\\\\GitHub"
     ],
     "language": "python",
     "metadata": {},
     "outputs": [
      {
       "output_type": "stream",
       "stream": "stdout",
       "text": [
        "C:\\Users\\Omkar\\Documents\\GitHub\n"
       ]
      }
     ],
     "prompt_number": 24
    },
    {
     "cell_type": "code",
     "collapsed": false,
     "input": [
      "ls"
     ],
     "language": "python",
     "metadata": {},
     "outputs": [
      {
       "output_type": "stream",
       "stream": "stdout",
       "text": [
        " Volume in drive C is OS\n",
        " Volume Serial Number is 8CD2-4B06\n",
        "\n",
        " Directory of C:\\Users\\Omkar\\Documents\\GitHub\n",
        "\n",
        "08-10-2013  10:22    <DIR>          .\n",
        "08-10-2013  10:22    <DIR>          ..\n",
        "08-10-2013  13:43    <DIR>          Pycode\n",
        "               0 File(s)              0 bytes\n",
        "               3 Dir(s)  19,523,293,184 bytes free\n"
       ]
      }
     ],
     "prompt_number": 25
    },
    {
     "cell_type": "code",
     "collapsed": false,
     "input": [
      "cd Pycode/"
     ],
     "language": "python",
     "metadata": {},
     "outputs": [
      {
       "output_type": "stream",
       "stream": "stdout",
       "text": [
        "C:\\Users\\Omkar\\Documents\\GitHub\\Pycode\n"
       ]
      }
     ],
     "prompt_number": 26
    },
    {
     "cell_type": "code",
     "collapsed": false,
     "input": [
      "ls\n"
     ],
     "language": "python",
     "metadata": {},
     "outputs": [
      {
       "output_type": "stream",
       "stream": "stdout",
       "text": [
        " Volume in drive C is OS\n",
        " Volume Serial Number is 8CD2-4B06\n",
        "\n",
        " Directory of C:\\Users\\Omkar\\Documents\\GitHub\\Pycode\n",
        "\n",
        "08-10-2013  13:43    <DIR>          .\n",
        "08-10-2013  13:43    <DIR>          ..\n",
        "04-10-2013  14:19             5,280 iris.mat\n",
        "08-10-2013  13:32             8,590 kmeans_clustering.ipynb\n",
        "08-10-2013  11:45            15,361 newton_raphson_method\n",
        "08-10-2013  10:45               984 newton_raphson_method.py\n",
        "08-10-2013  10:25            43,392 plot_using_matplotlib.ipynb\n",
        "08-10-2013  10:29               512 plot_using_matplotlib.py\n",
        "08-10-2013  10:22                32 README.md\n",
        "08-10-2013  13:25             4,606 riply_trn.csv\n",
        "04-10-2013  14:19             4,704 riply_trn.mat\n",
        "               9 File(s)         83,461 bytes\n",
        "               2 Dir(s)  19,523,293,184 bytes free\n"
       ]
      }
     ],
     "prompt_number": 27
    },
    {
     "cell_type": "code",
     "collapsed": false,
     "input": [
      "loadmat('riply_trn.mat')"
     ],
     "language": "python",
     "metadata": {},
     "outputs": [
      {
       "output_type": "pyout",
       "prompt_number": 29,
       "text": [
        "{'X': array([[ 0.05100797, -0.74807425, -0.77293371,  0.2183736 ,  0.37268336,\n",
        "        -0.62931544, -0.43307167, -0.8415197 ,  0.47525648,  0.32082976,\n",
        "         0.32061253, -0.89077472,  0.17850119,  0.31558002,  0.55777224,\n",
        "         0.03191877,  0.25090585,  0.23571547, -0.07236203,  0.50440241,\n",
        "        -0.63223351, -0.76784656, -0.70017557, -0.64713491, -0.76739248,\n",
        "        -0.51788734,  0.17516644, -0.6803119 ,  0.01595199, -0.71481078,\n",
        "         0.07837946, -0.80872251, -0.84211234, -0.98591577,  0.29104081,\n",
        "         0.24321541, -0.60104419, -1.24652451, -0.82769016, -0.62117301,\n",
        "        -0.70584105,  0.06718867,  0.30505147,  0.60788138, -0.78937483,\n",
        "        -0.53123209,  0.25202071, -0.57880357, -0.83176749, -0.69859164,\n",
        "        -0.73642607, -0.93496195,  0.43959309, -0.54690854, -0.0840555 ,\n",
        "         0.32211458,  0.10764739, -0.7186403 , -0.87877752, -0.69846046,\n",
        "         0.39757434, -0.50451354,  0.25023622,  0.61709156,  0.3183286 ,\n",
        "        -0.57453363,  0.09761865,  0.48449339,  0.52400684, -0.78138463,\n",
        "        -0.49704591, -0.96984525,  0.43541407, -0.67942462, -0.62529036,\n",
        "        -0.02318116,  0.23200141,  0.09384354,  0.14234301, -0.61686357,\n",
        "         0.23636288,  0.38914177, -0.95178678,  0.24087822,  0.12446266,\n",
        "        -0.6056643 , -0.71397188,  0.31008428,  0.18018786, -0.42663885,\n",
        "         0.0614323 ,  0.07736952,  0.4281497 , -0.80250753,  0.40142623,\n",
        "         0.37084776, -0.80774748,  0.50163585,  0.58238323, -0.591361  ,\n",
        "        -0.87037236, -0.72086765,  0.27778443,  0.33240813, -0.14092068,\n",
        "        -0.59759518, -0.85581534, -0.88912232,  0.2134568 , -0.53467949,\n",
        "         0.31686848, -0.68121733, -0.97586127,  0.41457183,  0.32751292,\n",
        "        -0.93209192,  0.58395341, -0.44437309,  0.29109441, -0.51080722,\n",
        "        -0.96597511,  0.18741315,  0.17965417, -0.72689602, -0.54339877,\n",
        "        -0.59823393, -0.20194736,  0.47146103, -0.09821987, -0.35657658,\n",
        "         0.63881392,  0.62980614, -0.46223286, -0.07331555, -0.55405533,\n",
        "        -0.43761773, -0.22237814,  0.09346162,  0.53174745,  0.40207539,\n",
        "         0.47555171, -0.23383266, -0.31579316, -0.4735172 ,  0.59239464,\n",
        "        -0.22605324, -0.43995011, -0.54645044,  0.46404306, -0.15194296,\n",
        "         0.48536395,  0.34725649,  0.43897015, -0.21415914,  0.57380231,\n",
        "         0.38717361,  0.32038322, -0.20781491, -0.18651283,  0.24752692,\n",
        "         0.66049881, -0.28658801, -0.3258808 , -0.25204565,  0.37259022,\n",
        "        -0.29096564, -0.30469807, -0.21389978, -0.36830015, -0.46928218,\n",
        "         0.39350146, -0.45639966,  0.51128242,  0.22550468,  0.01462984,\n",
        "        -0.19172785,  0.38323479,  0.49791612,  0.3533523 , -0.34722575,\n",
        "         0.58380468, -0.13727764,  0.38827268, -0.53172709, -0.11684624,\n",
        "         0.54335864, -0.45399302, -0.219132  ,  0.30485742,  0.65676798,\n",
        "         0.61420447, -0.45809964, -0.21617465, -0.26016108,  0.31884531,\n",
        "        -0.23727415,  0.58310323,  0.02841337, -0.41840136,  0.6741288 ,\n",
        "        -0.25278281,  0.51609843,  0.20392294, -0.17207124,  0.27274507,\n",
        "         0.07634798, -0.36653499,  0.44290673, -0.19976385, -0.54075738,\n",
        "        -0.07060266,  0.50715054, -0.06048611,  0.21532928,  0.46809108,\n",
        "        -0.29888511,  0.8612962 ,  0.70120877, -0.11342797,  0.31234354,\n",
        "        -0.12172541,  0.36867857,  0.57311489, -0.25841225,  0.30937186,\n",
        "         0.43319338, -0.30448035,  0.44276338, -0.19442057, -0.06105237,\n",
        "         0.07619347,  0.85826993,  0.370392  ,  0.51481515,  0.43127521,\n",
        "         0.42286091,  0.29815001,  0.37128253, -0.51528729,  0.38525783,\n",
        "        -0.34825368,  0.68510504, -0.36528923, -0.40903577,  0.43574387,\n",
        "         0.26887846, -0.49254862,  0.0761596 ,  0.49226224, -0.40249641],\n",
        "       [ 0.16086164,  0.08904024,  0.26317168,  0.12706142,  0.496562  ,\n",
        "         0.63202159,  0.14479166, -0.19131316,  0.22483671,  0.32721288,\n",
        "         0.33407547,  0.41168783,  0.44691359,  0.38853383,  0.47272748,\n",
        "         0.01222964,  0.30716705,  0.22493837,  0.33376524,  0.08054579,\n",
        "         0.44552458,  0.23614689,  0.21038848,  0.15921366,  0.09259038,\n",
        "         0.03288107,  0.34534871,  0.47612156,  0.32167526,  0.51421443,\n",
        "         0.32284981,  0.47036593,  0.09294232,  0.48309267,  0.34275967,\n",
        "         0.51488295,  0.05060116,  0.45923165,  0.3618746 , -0.10912158,\n",
        "         0.65907662,  0.6057485 ,  0.47417973,  0.39361588,  0.17591675,\n",
        "         0.42652809,  0.17029707,  0.26553665,  0.54447377,  0.38566851,\n",
        "         0.11857527,  0.11370707,  0.41430638,  0.24956276,  0.36521058,\n",
        "         0.69087105,  0.57946932,  0.25645757,  0.45064757,  0.9505387 ,\n",
        "         0.11810207,  0.57196376,  0.39783889,  0.10185808,  0.08790562,\n",
        "         0.18624195,  0.55176786,  0.35372973,  0.46616851, -0.07534713,\n",
        "         0.59948077,  0.46624927,  0.12192386,  0.30753942,  0.07099046,\n",
        "         0.40442601,  0.71066846,  0.46674396,  0.17898711,  0.25507763,\n",
        "         0.51543839,  0.40429568, -0.03772239,  0.7194889 ,  0.45178849,\n",
        "         0.26906478,  0.3087178 ,  0.34675335,  0.46204643,  0.64723225,\n",
        "         0.3249115 ,  0.32183287,  0.13445957,  0.66878999,  0.42516398,\n",
        "         0.26407123,  0.41485899,  0.23934856,  0.22842741,  0.30230321,\n",
        "         0.26941446,  0.19676678,  0.21792253,  0.27349865,  0.39247351,\n",
        "         0.14790267,  0.14513961,  0.26896001,  0.43611756,  0.57901229,\n",
        "         0.39705856,  0.0420984 ,  0.45964811,  0.2714123 ,  0.36780137,\n",
        "         0.09362034,  0.47147282,  0.23010142,  0.19365556,  0.41496003,\n",
        "         0.17931052,  0.29747132,  0.45175449,  0.35728387,  0.41012013,\n",
        "         0.98701425,  0.6210168 ,  0.48221146,  0.58755577,  0.63709705,\n",
        "         0.42112135,  0.28146085,  0.61661031,  0.55821736,  0.51253129,\n",
        "         0.87811781,  0.88850773,  0.67310494,  0.5437265 ,  0.51638462,\n",
        "         0.65056336,  0.6364258 ,  0.7503134 ,  0.63854125,  0.89256953,\n",
        "         0.79789454,  0.52099256,  0.74577198,  0.51065152,  0.81218439,\n",
        "         0.82018093,  0.70813773,  0.62817158,  0.64363951,  0.63713466,\n",
        "         0.58578395,  0.53529127,  0.65132467,  0.81754816,  0.39081936,\n",
        "         0.89919213,  0.73375946,  0.39865509,  0.67358326,  0.49785904,\n",
        "         1.0437206 ,  0.86858292,  1.09317811,  0.75639546,  0.88775091,\n",
        "         0.77975197,  0.80523454,  0.76606136,  0.46451215,  0.40190926,\n",
        "         0.80943313,  0.75601744,  0.61334375,  0.77324337,  0.70177856,\n",
        "         0.76357539,  0.71246351,  0.44977123,  0.61934293,  0.8785121 ,\n",
        "         0.41174865,  0.66512988,  0.83484947,  0.9802876 ,  0.75766017,\n",
        "         0.75039019,  0.77968606,  0.88626305,  0.81008591,  0.84517725,\n",
        "         0.80178784,  0.77709806,  0.7579262 ,  0.6804144 ,  0.60245461,\n",
        "         0.70526103,  0.6209239 ,  0.91641482,  1.00884096,  0.29346977,\n",
        "         0.56222204,  0.64831007,  0.80087721,  0.54295162,  0.65293033,\n",
        "         1.00296912,  0.35045758,  0.62982713,  0.60260249,  0.87182416,\n",
        "         0.73669866,  0.4728933 ,  0.74572893,  0.60067099,  0.90756345,\n",
        "         0.84112851,  0.37052586,  0.4094974 ,  0.67192335,  0.50823318,\n",
        "         0.77016967,  0.57820106,  0.58023403,  0.89876808,  0.74184946,\n",
        "         0.35386246,  0.95819523,  0.72342401,  0.76203996,  0.54259166,\n",
        "         0.65242185,  0.93453682,  0.70089181,  0.7647349 ,  0.65528189,\n",
        "         0.50529981,  0.7806744 ,  0.45703265,  0.74230433,  0.44689789,\n",
        "         0.4455923 ,  1.01443372,  0.6379518 ,  0.46876241,  0.71301084]]),\n",
        " '__globals__': [],\n",
        " '__header__': 'MATLAB 5.0 MAT-file, Platform: LNX86, Created on: Tue Jan 14 13:10:01 2003',\n",
        " '__version__': '1.0',\n",
        " 'dim': array([[2]], dtype=uint8),\n",
        " 'name': array([u'Finite data set'], \n",
        "      dtype='<U15'),\n",
        " 'num_data': array([[250]], dtype=uint8),\n",
        " 'y': array([[1, 1, 1, 1, 1, 1, 1, 1, 1, 1, 1, 1, 1, 1, 1, 1, 1, 1, 1, 1, 1, 1,\n",
        "        1, 1, 1, 1, 1, 1, 1, 1, 1, 1, 1, 1, 1, 1, 1, 1, 1, 1, 1, 1, 1, 1,\n",
        "        1, 1, 1, 1, 1, 1, 1, 1, 1, 1, 1, 1, 1, 1, 1, 1, 1, 1, 1, 1, 1, 1,\n",
        "        1, 1, 1, 1, 1, 1, 1, 1, 1, 1, 1, 1, 1, 1, 1, 1, 1, 1, 1, 1, 1, 1,\n",
        "        1, 1, 1, 1, 1, 1, 1, 1, 1, 1, 1, 1, 1, 1, 1, 1, 1, 1, 1, 1, 1, 1,\n",
        "        1, 1, 1, 1, 1, 1, 1, 1, 1, 1, 1, 1, 1, 1, 1, 2, 2, 2, 2, 2, 2, 2,\n",
        "        2, 2, 2, 2, 2, 2, 2, 2, 2, 2, 2, 2, 2, 2, 2, 2, 2, 2, 2, 2, 2, 2,\n",
        "        2, 2, 2, 2, 2, 2, 2, 2, 2, 2, 2, 2, 2, 2, 2, 2, 2, 2, 2, 2, 2, 2,\n",
        "        2, 2, 2, 2, 2, 2, 2, 2, 2, 2, 2, 2, 2, 2, 2, 2, 2, 2, 2, 2, 2, 2,\n",
        "        2, 2, 2, 2, 2, 2, 2, 2, 2, 2, 2, 2, 2, 2, 2, 2, 2, 2, 2, 2, 2, 2,\n",
        "        2, 2, 2, 2, 2, 2, 2, 2, 2, 2, 2, 2, 2, 2, 2, 2, 2, 2, 2, 2, 2, 2,\n",
        "        2, 2, 2, 2, 2, 2, 2, 2]], dtype=uint8)}"
       ]
      }
     ],
     "prompt_number": 29
    },
    {
     "cell_type": "code",
     "collapsed": false,
     "input": [
      "a=_"
     ],
     "language": "python",
     "metadata": {},
     "outputs": [],
     "prompt_number": 30
    },
    {
     "cell_type": "code",
     "collapsed": false,
     "input": [
      "a['y']"
     ],
     "language": "python",
     "metadata": {},
     "outputs": [
      {
       "output_type": "pyout",
       "prompt_number": 31,
       "text": [
        "array([[1, 1, 1, 1, 1, 1, 1, 1, 1, 1, 1, 1, 1, 1, 1, 1, 1, 1, 1, 1, 1, 1,\n",
        "        1, 1, 1, 1, 1, 1, 1, 1, 1, 1, 1, 1, 1, 1, 1, 1, 1, 1, 1, 1, 1, 1,\n",
        "        1, 1, 1, 1, 1, 1, 1, 1, 1, 1, 1, 1, 1, 1, 1, 1, 1, 1, 1, 1, 1, 1,\n",
        "        1, 1, 1, 1, 1, 1, 1, 1, 1, 1, 1, 1, 1, 1, 1, 1, 1, 1, 1, 1, 1, 1,\n",
        "        1, 1, 1, 1, 1, 1, 1, 1, 1, 1, 1, 1, 1, 1, 1, 1, 1, 1, 1, 1, 1, 1,\n",
        "        1, 1, 1, 1, 1, 1, 1, 1, 1, 1, 1, 1, 1, 1, 1, 2, 2, 2, 2, 2, 2, 2,\n",
        "        2, 2, 2, 2, 2, 2, 2, 2, 2, 2, 2, 2, 2, 2, 2, 2, 2, 2, 2, 2, 2, 2,\n",
        "        2, 2, 2, 2, 2, 2, 2, 2, 2, 2, 2, 2, 2, 2, 2, 2, 2, 2, 2, 2, 2, 2,\n",
        "        2, 2, 2, 2, 2, 2, 2, 2, 2, 2, 2, 2, 2, 2, 2, 2, 2, 2, 2, 2, 2, 2,\n",
        "        2, 2, 2, 2, 2, 2, 2, 2, 2, 2, 2, 2, 2, 2, 2, 2, 2, 2, 2, 2, 2, 2,\n",
        "        2, 2, 2, 2, 2, 2, 2, 2, 2, 2, 2, 2, 2, 2, 2, 2, 2, 2, 2, 2, 2, 2,\n",
        "        2, 2, 2, 2, 2, 2, 2, 2]], dtype=uint8)"
       ]
      }
     ],
     "prompt_number": 31
    },
    {
     "cell_type": "code",
     "collapsed": false,
     "input": [
      "data['label']=a['y']\n",
      "data['x']=a['X'][0]\n",
      "data['y']=a['X'][1]"
     ],
     "language": "python",
     "metadata": {},
     "outputs": [
      {
       "ename": "AssertionError",
       "evalue": "Length of values does not match length of index",
       "output_type": "pyerr",
       "traceback": [
        "\u001b[1;31m---------------------------------------------------------------------------\u001b[0m\n\u001b[1;31mAssertionError\u001b[0m                            Traceback (most recent call last)",
        "\u001b[1;32m<ipython-input-33-09e330a35ad5>\u001b[0m in \u001b[0;36m<module>\u001b[1;34m()\u001b[0m\n\u001b[1;32m----> 1\u001b[1;33m \u001b[0mdata\u001b[0m\u001b[1;33m[\u001b[0m\u001b[1;34m'label'\u001b[0m\u001b[1;33m]\u001b[0m\u001b[1;33m=\u001b[0m\u001b[0ma\u001b[0m\u001b[1;33m[\u001b[0m\u001b[1;34m'y'\u001b[0m\u001b[1;33m]\u001b[0m\u001b[1;33m\u001b[0m\u001b[0m\n\u001b[0m\u001b[0;32m      2\u001b[0m \u001b[0mdata\u001b[0m\u001b[1;33m[\u001b[0m\u001b[1;34m'x'\u001b[0m\u001b[1;33m]\u001b[0m\u001b[1;33m=\u001b[0m\u001b[0ma\u001b[0m\u001b[1;33m[\u001b[0m\u001b[1;34m'X'\u001b[0m\u001b[1;33m]\u001b[0m\u001b[1;33m[\u001b[0m\u001b[1;36m0\u001b[0m\u001b[1;33m]\u001b[0m\u001b[1;33m\u001b[0m\u001b[0m\n\u001b[0;32m      3\u001b[0m \u001b[0mdata\u001b[0m\u001b[1;33m[\u001b[0m\u001b[1;34m'y'\u001b[0m\u001b[1;33m]\u001b[0m\u001b[1;33m=\u001b[0m\u001b[0ma\u001b[0m\u001b[1;33m[\u001b[0m\u001b[1;34m'X'\u001b[0m\u001b[1;33m]\u001b[0m\u001b[1;33m[\u001b[0m\u001b[1;36m1\u001b[0m\u001b[1;33m]\u001b[0m\u001b[1;33m\u001b[0m\u001b[0m\n",
        "\u001b[1;32mC:\\Users\\Omkar\\AppData\\Local\\Enthought\\Canopy\\User\\lib\\site-packages\\pandas\\core\\frame.pyc\u001b[0m in \u001b[0;36m__setitem__\u001b[1;34m(self, key, value)\u001b[0m\n\u001b[0;32m   2117\u001b[0m         \u001b[1;32melse\u001b[0m\u001b[1;33m:\u001b[0m\u001b[1;33m\u001b[0m\u001b[0m\n\u001b[0;32m   2118\u001b[0m             \u001b[1;31m# set column\u001b[0m\u001b[1;33m\u001b[0m\u001b[1;33m\u001b[0m\u001b[0m\n\u001b[1;32m-> 2119\u001b[1;33m             \u001b[0mself\u001b[0m\u001b[1;33m.\u001b[0m\u001b[0m_set_item\u001b[0m\u001b[1;33m(\u001b[0m\u001b[0mkey\u001b[0m\u001b[1;33m,\u001b[0m \u001b[0mvalue\u001b[0m\u001b[1;33m)\u001b[0m\u001b[1;33m\u001b[0m\u001b[0m\n\u001b[0m\u001b[0;32m   2120\u001b[0m \u001b[1;33m\u001b[0m\u001b[0m\n\u001b[0;32m   2121\u001b[0m     \u001b[1;32mdef\u001b[0m \u001b[0m_setitem_slice\u001b[0m\u001b[1;33m(\u001b[0m\u001b[0mself\u001b[0m\u001b[1;33m,\u001b[0m \u001b[0mkey\u001b[0m\u001b[1;33m,\u001b[0m \u001b[0mvalue\u001b[0m\u001b[1;33m)\u001b[0m\u001b[1;33m:\u001b[0m\u001b[1;33m\u001b[0m\u001b[0m\n",
        "\u001b[1;32mC:\\Users\\Omkar\\AppData\\Local\\Enthought\\Canopy\\User\\lib\\site-packages\\pandas\\core\\frame.pyc\u001b[0m in \u001b[0;36m_set_item\u001b[1;34m(self, key, value)\u001b[0m\n\u001b[0;32m   2163\u001b[0m         \u001b[0mensure\u001b[0m \u001b[0mhomogeneity\u001b[0m\u001b[1;33m.\u001b[0m\u001b[1;33m\u001b[0m\u001b[0m\n\u001b[0;32m   2164\u001b[0m         \"\"\"\n\u001b[1;32m-> 2165\u001b[1;33m         \u001b[0mvalue\u001b[0m \u001b[1;33m=\u001b[0m \u001b[0mself\u001b[0m\u001b[1;33m.\u001b[0m\u001b[0m_sanitize_column\u001b[0m\u001b[1;33m(\u001b[0m\u001b[0mkey\u001b[0m\u001b[1;33m,\u001b[0m \u001b[0mvalue\u001b[0m\u001b[1;33m)\u001b[0m\u001b[1;33m\u001b[0m\u001b[0m\n\u001b[0m\u001b[0;32m   2166\u001b[0m         \u001b[0mNDFrame\u001b[0m\u001b[1;33m.\u001b[0m\u001b[0m_set_item\u001b[0m\u001b[1;33m(\u001b[0m\u001b[0mself\u001b[0m\u001b[1;33m,\u001b[0m \u001b[0mkey\u001b[0m\u001b[1;33m,\u001b[0m \u001b[0mvalue\u001b[0m\u001b[1;33m)\u001b[0m\u001b[1;33m\u001b[0m\u001b[0m\n\u001b[0;32m   2167\u001b[0m \u001b[1;33m\u001b[0m\u001b[0m\n",
        "\u001b[1;32mC:\\Users\\Omkar\\AppData\\Local\\Enthought\\Canopy\\User\\lib\\site-packages\\pandas\\core\\frame.pyc\u001b[0m in \u001b[0;36m_sanitize_column\u001b[1;34m(self, key, value)\u001b[0m\n\u001b[0;32m   2203\u001b[0m             \u001b[1;32melse\u001b[0m\u001b[1;33m:\u001b[0m\u001b[1;33m\u001b[0m\u001b[0m\n\u001b[0;32m   2204\u001b[0m                 \u001b[1;32mif\u001b[0m \u001b[0mlen\u001b[0m\u001b[1;33m(\u001b[0m\u001b[0mvalue\u001b[0m\u001b[1;33m)\u001b[0m \u001b[1;33m!=\u001b[0m \u001b[0mlen\u001b[0m\u001b[1;33m(\u001b[0m\u001b[0mself\u001b[0m\u001b[1;33m.\u001b[0m\u001b[0mindex\u001b[0m\u001b[1;33m)\u001b[0m\u001b[1;33m:\u001b[0m\u001b[1;33m\u001b[0m\u001b[0m\n\u001b[1;32m-> 2205\u001b[1;33m                     raise AssertionError('Length of values does not match '\n\u001b[0m\u001b[0;32m   2206\u001b[0m                                          'length of index')\n\u001b[0;32m   2207\u001b[0m \u001b[1;33m\u001b[0m\u001b[0m\n",
        "\u001b[1;31mAssertionError\u001b[0m: Length of values does not match length of index"
       ]
      }
     ],
     "prompt_number": 33
    },
    {
     "cell_type": "code",
     "collapsed": false,
     "input": [
      "data={}"
     ],
     "language": "python",
     "metadata": {},
     "outputs": [],
     "prompt_number": 34
    },
    {
     "cell_type": "code",
     "collapsed": false,
     "input": [
      "data['label']=a['y']\n",
      "data['x']=a['X'][0]\n",
      "data['y']=a['X'][1]"
     ],
     "language": "python",
     "metadata": {},
     "outputs": [],
     "prompt_number": 35
    },
    {
     "cell_type": "code",
     "collapsed": false,
     "input": [
      "data"
     ],
     "language": "python",
     "metadata": {},
     "outputs": [
      {
       "output_type": "pyout",
       "prompt_number": 36,
       "text": [
        "{'label': array([[1, 1, 1, 1, 1, 1, 1, 1, 1, 1, 1, 1, 1, 1, 1, 1, 1, 1, 1, 1, 1, 1,\n",
        "        1, 1, 1, 1, 1, 1, 1, 1, 1, 1, 1, 1, 1, 1, 1, 1, 1, 1, 1, 1, 1, 1,\n",
        "        1, 1, 1, 1, 1, 1, 1, 1, 1, 1, 1, 1, 1, 1, 1, 1, 1, 1, 1, 1, 1, 1,\n",
        "        1, 1, 1, 1, 1, 1, 1, 1, 1, 1, 1, 1, 1, 1, 1, 1, 1, 1, 1, 1, 1, 1,\n",
        "        1, 1, 1, 1, 1, 1, 1, 1, 1, 1, 1, 1, 1, 1, 1, 1, 1, 1, 1, 1, 1, 1,\n",
        "        1, 1, 1, 1, 1, 1, 1, 1, 1, 1, 1, 1, 1, 1, 1, 2, 2, 2, 2, 2, 2, 2,\n",
        "        2, 2, 2, 2, 2, 2, 2, 2, 2, 2, 2, 2, 2, 2, 2, 2, 2, 2, 2, 2, 2, 2,\n",
        "        2, 2, 2, 2, 2, 2, 2, 2, 2, 2, 2, 2, 2, 2, 2, 2, 2, 2, 2, 2, 2, 2,\n",
        "        2, 2, 2, 2, 2, 2, 2, 2, 2, 2, 2, 2, 2, 2, 2, 2, 2, 2, 2, 2, 2, 2,\n",
        "        2, 2, 2, 2, 2, 2, 2, 2, 2, 2, 2, 2, 2, 2, 2, 2, 2, 2, 2, 2, 2, 2,\n",
        "        2, 2, 2, 2, 2, 2, 2, 2, 2, 2, 2, 2, 2, 2, 2, 2, 2, 2, 2, 2, 2, 2,\n",
        "        2, 2, 2, 2, 2, 2, 2, 2]], dtype=uint8),\n",
        " 'x': array([ 0.05100797, -0.74807425, -0.77293371,  0.2183736 ,  0.37268336,\n",
        "       -0.62931544, -0.43307167, -0.8415197 ,  0.47525648,  0.32082976,\n",
        "        0.32061253, -0.89077472,  0.17850119,  0.31558002,  0.55777224,\n",
        "        0.03191877,  0.25090585,  0.23571547, -0.07236203,  0.50440241,\n",
        "       -0.63223351, -0.76784656, -0.70017557, -0.64713491, -0.76739248,\n",
        "       -0.51788734,  0.17516644, -0.6803119 ,  0.01595199, -0.71481078,\n",
        "        0.07837946, -0.80872251, -0.84211234, -0.98591577,  0.29104081,\n",
        "        0.24321541, -0.60104419, -1.24652451, -0.82769016, -0.62117301,\n",
        "       -0.70584105,  0.06718867,  0.30505147,  0.60788138, -0.78937483,\n",
        "       -0.53123209,  0.25202071, -0.57880357, -0.83176749, -0.69859164,\n",
        "       -0.73642607, -0.93496195,  0.43959309, -0.54690854, -0.0840555 ,\n",
        "        0.32211458,  0.10764739, -0.7186403 , -0.87877752, -0.69846046,\n",
        "        0.39757434, -0.50451354,  0.25023622,  0.61709156,  0.3183286 ,\n",
        "       -0.57453363,  0.09761865,  0.48449339,  0.52400684, -0.78138463,\n",
        "       -0.49704591, -0.96984525,  0.43541407, -0.67942462, -0.62529036,\n",
        "       -0.02318116,  0.23200141,  0.09384354,  0.14234301, -0.61686357,\n",
        "        0.23636288,  0.38914177, -0.95178678,  0.24087822,  0.12446266,\n",
        "       -0.6056643 , -0.71397188,  0.31008428,  0.18018786, -0.42663885,\n",
        "        0.0614323 ,  0.07736952,  0.4281497 , -0.80250753,  0.40142623,\n",
        "        0.37084776, -0.80774748,  0.50163585,  0.58238323, -0.591361  ,\n",
        "       -0.87037236, -0.72086765,  0.27778443,  0.33240813, -0.14092068,\n",
        "       -0.59759518, -0.85581534, -0.88912232,  0.2134568 , -0.53467949,\n",
        "        0.31686848, -0.68121733, -0.97586127,  0.41457183,  0.32751292,\n",
        "       -0.93209192,  0.58395341, -0.44437309,  0.29109441, -0.51080722,\n",
        "       -0.96597511,  0.18741315,  0.17965417, -0.72689602, -0.54339877,\n",
        "       -0.59823393, -0.20194736,  0.47146103, -0.09821987, -0.35657658,\n",
        "        0.63881392,  0.62980614, -0.46223286, -0.07331555, -0.55405533,\n",
        "       -0.43761773, -0.22237814,  0.09346162,  0.53174745,  0.40207539,\n",
        "        0.47555171, -0.23383266, -0.31579316, -0.4735172 ,  0.59239464,\n",
        "       -0.22605324, -0.43995011, -0.54645044,  0.46404306, -0.15194296,\n",
        "        0.48536395,  0.34725649,  0.43897015, -0.21415914,  0.57380231,\n",
        "        0.38717361,  0.32038322, -0.20781491, -0.18651283,  0.24752692,\n",
        "        0.66049881, -0.28658801, -0.3258808 , -0.25204565,  0.37259022,\n",
        "       -0.29096564, -0.30469807, -0.21389978, -0.36830015, -0.46928218,\n",
        "        0.39350146, -0.45639966,  0.51128242,  0.22550468,  0.01462984,\n",
        "       -0.19172785,  0.38323479,  0.49791612,  0.3533523 , -0.34722575,\n",
        "        0.58380468, -0.13727764,  0.38827268, -0.53172709, -0.11684624,\n",
        "        0.54335864, -0.45399302, -0.219132  ,  0.30485742,  0.65676798,\n",
        "        0.61420447, -0.45809964, -0.21617465, -0.26016108,  0.31884531,\n",
        "       -0.23727415,  0.58310323,  0.02841337, -0.41840136,  0.6741288 ,\n",
        "       -0.25278281,  0.51609843,  0.20392294, -0.17207124,  0.27274507,\n",
        "        0.07634798, -0.36653499,  0.44290673, -0.19976385, -0.54075738,\n",
        "       -0.07060266,  0.50715054, -0.06048611,  0.21532928,  0.46809108,\n",
        "       -0.29888511,  0.8612962 ,  0.70120877, -0.11342797,  0.31234354,\n",
        "       -0.12172541,  0.36867857,  0.57311489, -0.25841225,  0.30937186,\n",
        "        0.43319338, -0.30448035,  0.44276338, -0.19442057, -0.06105237,\n",
        "        0.07619347,  0.85826993,  0.370392  ,  0.51481515,  0.43127521,\n",
        "        0.42286091,  0.29815001,  0.37128253, -0.51528729,  0.38525783,\n",
        "       -0.34825368,  0.68510504, -0.36528923, -0.40903577,  0.43574387,\n",
        "        0.26887846, -0.49254862,  0.0761596 ,  0.49226224, -0.40249641]),\n",
        " 'y': array([ 0.16086164,  0.08904024,  0.26317168,  0.12706142,  0.496562  ,\n",
        "        0.63202159,  0.14479166, -0.19131316,  0.22483671,  0.32721288,\n",
        "        0.33407547,  0.41168783,  0.44691359,  0.38853383,  0.47272748,\n",
        "        0.01222964,  0.30716705,  0.22493837,  0.33376524,  0.08054579,\n",
        "        0.44552458,  0.23614689,  0.21038848,  0.15921366,  0.09259038,\n",
        "        0.03288107,  0.34534871,  0.47612156,  0.32167526,  0.51421443,\n",
        "        0.32284981,  0.47036593,  0.09294232,  0.48309267,  0.34275967,\n",
        "        0.51488295,  0.05060116,  0.45923165,  0.3618746 , -0.10912158,\n",
        "        0.65907662,  0.6057485 ,  0.47417973,  0.39361588,  0.17591675,\n",
        "        0.42652809,  0.17029707,  0.26553665,  0.54447377,  0.38566851,\n",
        "        0.11857527,  0.11370707,  0.41430638,  0.24956276,  0.36521058,\n",
        "        0.69087105,  0.57946932,  0.25645757,  0.45064757,  0.9505387 ,\n",
        "        0.11810207,  0.57196376,  0.39783889,  0.10185808,  0.08790562,\n",
        "        0.18624195,  0.55176786,  0.35372973,  0.46616851, -0.07534713,\n",
        "        0.59948077,  0.46624927,  0.12192386,  0.30753942,  0.07099046,\n",
        "        0.40442601,  0.71066846,  0.46674396,  0.17898711,  0.25507763,\n",
        "        0.51543839,  0.40429568, -0.03772239,  0.7194889 ,  0.45178849,\n",
        "        0.26906478,  0.3087178 ,  0.34675335,  0.46204643,  0.64723225,\n",
        "        0.3249115 ,  0.32183287,  0.13445957,  0.66878999,  0.42516398,\n",
        "        0.26407123,  0.41485899,  0.23934856,  0.22842741,  0.30230321,\n",
        "        0.26941446,  0.19676678,  0.21792253,  0.27349865,  0.39247351,\n",
        "        0.14790267,  0.14513961,  0.26896001,  0.43611756,  0.57901229,\n",
        "        0.39705856,  0.0420984 ,  0.45964811,  0.2714123 ,  0.36780137,\n",
        "        0.09362034,  0.47147282,  0.23010142,  0.19365556,  0.41496003,\n",
        "        0.17931052,  0.29747132,  0.45175449,  0.35728387,  0.41012013,\n",
        "        0.98701425,  0.6210168 ,  0.48221146,  0.58755577,  0.63709705,\n",
        "        0.42112135,  0.28146085,  0.61661031,  0.55821736,  0.51253129,\n",
        "        0.87811781,  0.88850773,  0.67310494,  0.5437265 ,  0.51638462,\n",
        "        0.65056336,  0.6364258 ,  0.7503134 ,  0.63854125,  0.89256953,\n",
        "        0.79789454,  0.52099256,  0.74577198,  0.51065152,  0.81218439,\n",
        "        0.82018093,  0.70813773,  0.62817158,  0.64363951,  0.63713466,\n",
        "        0.58578395,  0.53529127,  0.65132467,  0.81754816,  0.39081936,\n",
        "        0.89919213,  0.73375946,  0.39865509,  0.67358326,  0.49785904,\n",
        "        1.0437206 ,  0.86858292,  1.09317811,  0.75639546,  0.88775091,\n",
        "        0.77975197,  0.80523454,  0.76606136,  0.46451215,  0.40190926,\n",
        "        0.80943313,  0.75601744,  0.61334375,  0.77324337,  0.70177856,\n",
        "        0.76357539,  0.71246351,  0.44977123,  0.61934293,  0.8785121 ,\n",
        "        0.41174865,  0.66512988,  0.83484947,  0.9802876 ,  0.75766017,\n",
        "        0.75039019,  0.77968606,  0.88626305,  0.81008591,  0.84517725,\n",
        "        0.80178784,  0.77709806,  0.7579262 ,  0.6804144 ,  0.60245461,\n",
        "        0.70526103,  0.6209239 ,  0.91641482,  1.00884096,  0.29346977,\n",
        "        0.56222204,  0.64831007,  0.80087721,  0.54295162,  0.65293033,\n",
        "        1.00296912,  0.35045758,  0.62982713,  0.60260249,  0.87182416,\n",
        "        0.73669866,  0.4728933 ,  0.74572893,  0.60067099,  0.90756345,\n",
        "        0.84112851,  0.37052586,  0.4094974 ,  0.67192335,  0.50823318,\n",
        "        0.77016967,  0.57820106,  0.58023403,  0.89876808,  0.74184946,\n",
        "        0.35386246,  0.95819523,  0.72342401,  0.76203996,  0.54259166,\n",
        "        0.65242185,  0.93453682,  0.70089181,  0.7647349 ,  0.65528189,\n",
        "        0.50529981,  0.7806744 ,  0.45703265,  0.74230433,  0.44689789,\n",
        "        0.4455923 ,  1.01443372,  0.6379518 ,  0.46876241,  0.71301084])}"
       ]
      }
     ],
     "prompt_number": 36
    },
    {
     "cell_type": "code",
     "collapsed": false,
     "input": [
      "scatter(data['x'],data['y'])"
     ],
     "language": "python",
     "metadata": {},
     "outputs": [
      {
       "output_type": "pyout",
       "prompt_number": 38,
       "text": [
        "<matplotlib.collections.PathCollection at 0x8b5a860>"
       ]
      },
      {
       "output_type": "display_data",
       "png": "[encoded data removed]",
       "text": [
        "<matplotlib.figure.Figure at 0x9744908>"
       ]
      }
     ],
     "prompt_number": 38
    },
    {
     "cell_type": "code",
     "collapsed": false,
     "input": [],
     "language": "python",
     "metadata": {},
     "outputs": []
    },
    {
     "cell_type": "code",
     "collapsed": false,
     "input": [
      "c1={}\n",
      "\n",
      "c1['x']=data['x'][0]\n",
      "c1['y']=data['y'][0]\n",
      "\n",
      "\n",
      "c2={}\n",
      "\n",
      "\n",
      "c2['x']=data['x'][-1]\n",
      "c2['y']=data['y'][-1]\n",
      "\n"
     ],
     "language": "python",
     "metadata": {},
     "outputs": [],
     "prompt_number": 39
    },
    {
     "cell_type": "code",
     "collapsed": false,
     "input": [
      "import matplotlib.pyplot as plt\n"
     ],
     "language": "python",
     "metadata": {},
     "outputs": [
      {
       "output_type": "display_data",
       "text": [
        "<matplotlib.figure.Figure at 0x981c0b8>"
       ]
      }
     ],
     "prompt_number": 42
    },
    {
     "cell_type": "code",
     "collapsed": false,
     "input": [
      "data[\"assignment\"]=np.zeros(data['label'].size)"
     ],
     "language": "python",
     "metadata": {},
     "outputs": [],
     "prompt_number": 44
    },
    {
     "cell_type": "code",
     "collapsed": false,
     "input": [
      "data"
     ],
     "language": "python",
     "metadata": {},
     "outputs": [
      {
       "output_type": "pyout",
       "prompt_number": 45,
       "text": [
        "{'assignment': array([ 0.,  0.,  0.,  0.,  0.,  0.,  0.,  0.,  0.,  0.,  0.,  0.,  0.,\n",
        "        0.,  0.,  0.,  0.,  0.,  0.,  0.,  0.,  0.,  0.,  0.,  0.,  0.,\n",
        "        0.,  0.,  0.,  0.,  0.,  0.,  0.,  0.,  0.,  0.,  0.,  0.,  0.,\n",
        "        0.,  0.,  0.,  0.,  0.,  0.,  0.,  0.,  0.,  0.,  0.,  0.,  0.,\n",
        "        0.,  0.,  0.,  0.,  0.,  0.,  0.,  0.,  0.,  0.,  0.,  0.,  0.,\n",
        "        0.,  0.,  0.,  0.,  0.,  0.,  0.,  0.,  0.,  0.,  0.,  0.,  0.,\n",
        "        0.,  0.,  0.,  0.,  0.,  0.,  0.,  0.,  0.,  0.,  0.,  0.,  0.,\n",
        "        0.,  0.,  0.,  0.,  0.,  0.,  0.,  0.,  0.,  0.,  0.,  0.,  0.,\n",
        "        0.,  0.,  0.,  0.,  0.,  0.,  0.,  0.,  0.,  0.,  0.,  0.,  0.,\n",
        "        0.,  0.,  0.,  0.,  0.,  0.,  0.,  0.,  0.,  0.,  0.,  0.,  0.,\n",
        "        0.,  0.,  0.,  0.,  0.,  0.,  0.,  0.,  0.,  0.,  0.,  0.,  0.,\n",
        "        0.,  0.,  0.,  0.,  0.,  0.,  0.,  0.,  0.,  0.,  0.,  0.,  0.,\n",
        "        0.,  0.,  0.,  0.,  0.,  0.,  0.,  0.,  0.,  0.,  0.,  0.,  0.,\n",
        "        0.,  0.,  0.,  0.,  0.,  0.,  0.,  0.,  0.,  0.,  0.,  0.,  0.,\n",
        "        0.,  0.,  0.,  0.,  0.,  0.,  0.,  0.,  0.,  0.,  0.,  0.,  0.,\n",
        "        0.,  0.,  0.,  0.,  0.,  0.,  0.,  0.,  0.,  0.,  0.,  0.,  0.,\n",
        "        0.,  0.,  0.,  0.,  0.,  0.,  0.,  0.,  0.,  0.,  0.,  0.,  0.,\n",
        "        0.,  0.,  0.,  0.,  0.,  0.,  0.,  0.,  0.,  0.,  0.,  0.,  0.,\n",
        "        0.,  0.,  0.,  0.,  0.,  0.,  0.,  0.,  0.,  0.,  0.,  0.,  0.,\n",
        "        0.,  0.,  0.]),\n",
        " 'label': array([[1, 1, 1, 1, 1, 1, 1, 1, 1, 1, 1, 1, 1, 1, 1, 1, 1, 1, 1, 1, 1, 1,\n",
        "        1, 1, 1, 1, 1, 1, 1, 1, 1, 1, 1, 1, 1, 1, 1, 1, 1, 1, 1, 1, 1, 1,\n",
        "        1, 1, 1, 1, 1, 1, 1, 1, 1, 1, 1, 1, 1, 1, 1, 1, 1, 1, 1, 1, 1, 1,\n",
        "        1, 1, 1, 1, 1, 1, 1, 1, 1, 1, 1, 1, 1, 1, 1, 1, 1, 1, 1, 1, 1, 1,\n",
        "        1, 1, 1, 1, 1, 1, 1, 1, 1, 1, 1, 1, 1, 1, 1, 1, 1, 1, 1, 1, 1, 1,\n",
        "        1, 1, 1, 1, 1, 1, 1, 1, 1, 1, 1, 1, 1, 1, 1, 2, 2, 2, 2, 2, 2, 2,\n",
        "        2, 2, 2, 2, 2, 2, 2, 2, 2, 2, 2, 2, 2, 2, 2, 2, 2, 2, 2, 2, 2, 2,\n",
        "        2, 2, 2, 2, 2, 2, 2, 2, 2, 2, 2, 2, 2, 2, 2, 2, 2, 2, 2, 2, 2, 2,\n",
        "        2, 2, 2, 2, 2, 2, 2, 2, 2, 2, 2, 2, 2, 2, 2, 2, 2, 2, 2, 2, 2, 2,\n",
        "        2, 2, 2, 2, 2, 2, 2, 2, 2, 2, 2, 2, 2, 2, 2, 2, 2, 2, 2, 2, 2, 2,\n",
        "        2, 2, 2, 2, 2, 2, 2, 2, 2, 2, 2, 2, 2, 2, 2, 2, 2, 2, 2, 2, 2, 2,\n",
        "        2, 2, 2, 2, 2, 2, 2, 2]], dtype=uint8),\n",
        " 'x': array([ 0.05100797, -0.74807425, -0.77293371,  0.2183736 ,  0.37268336,\n",
        "       -0.62931544, -0.43307167, -0.8415197 ,  0.47525648,  0.32082976,\n",
        "        0.32061253, -0.89077472,  0.17850119,  0.31558002,  0.55777224,\n",
        "        0.03191877,  0.25090585,  0.23571547, -0.07236203,  0.50440241,\n",
        "       -0.63223351, -0.76784656, -0.70017557, -0.64713491, -0.76739248,\n",
        "       -0.51788734,  0.17516644, -0.6803119 ,  0.01595199, -0.71481078,\n",
        "        0.07837946, -0.80872251, -0.84211234, -0.98591577,  0.29104081,\n",
        "        0.24321541, -0.60104419, -1.24652451, -0.82769016, -0.62117301,\n",
        "       -0.70584105,  0.06718867,  0.30505147,  0.60788138, -0.78937483,\n",
        "       -0.53123209,  0.25202071, -0.57880357, -0.83176749, -0.69859164,\n",
        "       -0.73642607, -0.93496195,  0.43959309, -0.54690854, -0.0840555 ,\n",
        "        0.32211458,  0.10764739, -0.7186403 , -0.87877752, -0.69846046,\n",
        "        0.39757434, -0.50451354,  0.25023622,  0.61709156,  0.3183286 ,\n",
        "       -0.57453363,  0.09761865,  0.48449339,  0.52400684, -0.78138463,\n",
        "       -0.49704591, -0.96984525,  0.43541407, -0.67942462, -0.62529036,\n",
        "       -0.02318116,  0.23200141,  0.09384354,  0.14234301, -0.61686357,\n",
        "        0.23636288,  0.38914177, -0.95178678,  0.24087822,  0.12446266,\n",
        "       -0.6056643 , -0.71397188,  0.31008428,  0.18018786, -0.42663885,\n",
        "        0.0614323 ,  0.07736952,  0.4281497 , -0.80250753,  0.40142623,\n",
        "        0.37084776, -0.80774748,  0.50163585,  0.58238323, -0.591361  ,\n",
        "       -0.87037236, -0.72086765,  0.27778443,  0.33240813, -0.14092068,\n",
        "       -0.59759518, -0.85581534, -0.88912232,  0.2134568 , -0.53467949,\n",
        "        0.31686848, -0.68121733, -0.97586127,  0.41457183,  0.32751292,\n",
        "       -0.93209192,  0.58395341, -0.44437309,  0.29109441, -0.51080722,\n",
        "       -0.96597511,  0.18741315,  0.17965417, -0.72689602, -0.54339877,\n",
        "       -0.59823393, -0.20194736,  0.47146103, -0.09821987, -0.35657658,\n",
        "        0.63881392,  0.62980614, -0.46223286, -0.07331555, -0.55405533,\n",
        "       -0.43761773, -0.22237814,  0.09346162,  0.53174745,  0.40207539,\n",
        "        0.47555171, -0.23383266, -0.31579316, -0.4735172 ,  0.59239464,\n",
        "       -0.22605324, -0.43995011, -0.54645044,  0.46404306, -0.15194296,\n",
        "        0.48536395,  0.34725649,  0.43897015, -0.21415914,  0.57380231,\n",
        "        0.38717361,  0.32038322, -0.20781491, -0.18651283,  0.24752692,\n",
        "        0.66049881, -0.28658801, -0.3258808 , -0.25204565,  0.37259022,\n",
        "       -0.29096564, -0.30469807, -0.21389978, -0.36830015, -0.46928218,\n",
        "        0.39350146, -0.45639966,  0.51128242,  0.22550468,  0.01462984,\n",
        "       -0.19172785,  0.38323479,  0.49791612,  0.3533523 , -0.34722575,\n",
        "        0.58380468, -0.13727764,  0.38827268, -0.53172709, -0.11684624,\n",
        "        0.54335864, -0.45399302, -0.219132  ,  0.30485742,  0.65676798,\n",
        "        0.61420447, -0.45809964, -0.21617465, -0.26016108,  0.31884531,\n",
        "       -0.23727415,  0.58310323,  0.02841337, -0.41840136,  0.6741288 ,\n",
        "       -0.25278281,  0.51609843,  0.20392294, -0.17207124,  0.27274507,\n",
        "        0.07634798, -0.36653499,  0.44290673, -0.19976385, -0.54075738,\n",
        "       -0.07060266,  0.50715054, -0.06048611,  0.21532928,  0.46809108,\n",
        "       -0.29888511,  0.8612962 ,  0.70120877, -0.11342797,  0.31234354,\n",
        "       -0.12172541,  0.36867857,  0.57311489, -0.25841225,  0.30937186,\n",
        "        0.43319338, -0.30448035,  0.44276338, -0.19442057, -0.06105237,\n",
        "        0.07619347,  0.85826993,  0.370392  ,  0.51481515,  0.43127521,\n",
        "        0.42286091,  0.29815001,  0.37128253, -0.51528729,  0.38525783,\n",
        "       -0.34825368,  0.68510504, -0.36528923, -0.40903577,  0.43574387,\n",
        "        0.26887846, -0.49254862,  0.0761596 ,  0.49226224, -0.40249641]),\n",
        " 'y': array([ 0.16086164,  0.08904024,  0.26317168,  0.12706142,  0.496562  ,\n",
        "        0.63202159,  0.14479166, -0.19131316,  0.22483671,  0.32721288,\n",
        "        0.33407547,  0.41168783,  0.44691359,  0.38853383,  0.47272748,\n",
        "        0.01222964,  0.30716705,  0.22493837,  0.33376524,  0.08054579,\n",
        "        0.44552458,  0.23614689,  0.21038848,  0.15921366,  0.09259038,\n",
        "        0.03288107,  0.34534871,  0.47612156,  0.32167526,  0.51421443,\n",
        "        0.32284981,  0.47036593,  0.09294232,  0.48309267,  0.34275967,\n",
        "        0.51488295,  0.05060116,  0.45923165,  0.3618746 , -0.10912158,\n",
        "        0.65907662,  0.6057485 ,  0.47417973,  0.39361588,  0.17591675,\n",
        "        0.42652809,  0.17029707,  0.26553665,  0.54447377,  0.38566851,\n",
        "        0.11857527,  0.11370707,  0.41430638,  0.24956276,  0.36521058,\n",
        "        0.69087105,  0.57946932,  0.25645757,  0.45064757,  0.9505387 ,\n",
        "        0.11810207,  0.57196376,  0.39783889,  0.10185808,  0.08790562,\n",
        "        0.18624195,  0.55176786,  0.35372973,  0.46616851, -0.07534713,\n",
        "        0.59948077,  0.46624927,  0.12192386,  0.30753942,  0.07099046,\n",
        "        0.40442601,  0.71066846,  0.46674396,  0.17898711,  0.25507763,\n",
        "        0.51543839,  0.40429568, -0.03772239,  0.7194889 ,  0.45178849,\n",
        "        0.26906478,  0.3087178 ,  0.34675335,  0.46204643,  0.64723225,\n",
        "        0.3249115 ,  0.32183287,  0.13445957,  0.66878999,  0.42516398,\n",
        "        0.26407123,  0.41485899,  0.23934856,  0.22842741,  0.30230321,\n",
        "        0.26941446,  0.19676678,  0.21792253,  0.27349865,  0.39247351,\n",
        "        0.14790267,  0.14513961,  0.26896001,  0.43611756,  0.57901229,\n",
        "        0.39705856,  0.0420984 ,  0.45964811,  0.2714123 ,  0.36780137,\n",
        "        0.09362034,  0.47147282,  0.23010142,  0.19365556,  0.41496003,\n",
        "        0.17931052,  0.29747132,  0.45175449,  0.35728387,  0.41012013,\n",
        "        0.98701425,  0.6210168 ,  0.48221146,  0.58755577,  0.63709705,\n",
        "        0.42112135,  0.28146085,  0.61661031,  0.55821736,  0.51253129,\n",
        "        0.87811781,  0.88850773,  0.67310494,  0.5437265 ,  0.51638462,\n",
        "        0.65056336,  0.6364258 ,  0.7503134 ,  0.63854125,  0.89256953,\n",
        "        0.79789454,  0.52099256,  0.74577198,  0.51065152,  0.81218439,\n",
        "        0.82018093,  0.70813773,  0.62817158,  0.64363951,  0.63713466,\n",
        "        0.58578395,  0.53529127,  0.65132467,  0.81754816,  0.39081936,\n",
        "        0.89919213,  0.73375946,  0.39865509,  0.67358326,  0.49785904,\n",
        "        1.0437206 ,  0.86858292,  1.09317811,  0.75639546,  0.88775091,\n",
        "        0.77975197,  0.80523454,  0.76606136,  0.46451215,  0.40190926,\n",
        "        0.80943313,  0.75601744,  0.61334375,  0.77324337,  0.70177856,\n",
        "        0.76357539,  0.71246351,  0.44977123,  0.61934293,  0.8785121 ,\n",
        "        0.41174865,  0.66512988,  0.83484947,  0.9802876 ,  0.75766017,\n",
        "        0.75039019,  0.77968606,  0.88626305,  0.81008591,  0.84517725,\n",
        "        0.80178784,  0.77709806,  0.7579262 ,  0.6804144 ,  0.60245461,\n",
        "        0.70526103,  0.6209239 ,  0.91641482,  1.00884096,  0.29346977,\n",
        "        0.56222204,  0.64831007,  0.80087721,  0.54295162,  0.65293033,\n",
        "        1.00296912,  0.35045758,  0.62982713,  0.60260249,  0.87182416,\n",
        "        0.73669866,  0.4728933 ,  0.74572893,  0.60067099,  0.90756345,\n",
        "        0.84112851,  0.37052586,  0.4094974 ,  0.67192335,  0.50823318,\n",
        "        0.77016967,  0.57820106,  0.58023403,  0.89876808,  0.74184946,\n",
        "        0.35386246,  0.95819523,  0.72342401,  0.76203996,  0.54259166,\n",
        "        0.65242185,  0.93453682,  0.70089181,  0.7647349 ,  0.65528189,\n",
        "        0.50529981,  0.7806744 ,  0.45703265,  0.74230433,  0.44689789,\n",
        "        0.4455923 ,  1.01443372,  0.6379518 ,  0.46876241,  0.71301084])}"
       ]
      }
     ],
     "prompt_number": 45
    },
    {
     "cell_type": "code",
     "collapsed": false,
     "input": [
      "d1=np.zeros(data['label'].size)\n",
      "d2=np.zeros(data['label'].size)"
     ],
     "language": "python",
     "metadata": {},
     "outputs": [],
     "prompt_number": 47
    },
    {
     "cell_type": "code",
     "collapsed": false,
     "input": [
      "for i in range(data['label'].size):\n",
      "    d1[i]=(data['x'][i]-c1['x'])**2 + (data['y'][i]-c1['y'])**2\n",
      "    d2[i]=(data['x'][i]-c2['x'])**2 + (data['y'][i]-c2['y'])**2\n",
      "    "
     ],
     "language": "python",
     "metadata": {},
     "outputs": [],
     "prompt_number": 48
    },
    {
     "cell_type": "code",
     "collapsed": false,
     "input": [
      "d1>d2"
     ],
     "language": "python",
     "metadata": {},
     "outputs": [
      {
       "output_type": "pyout",
       "prompt_number": 50,
       "text": [
        "array([False,  True,  True, False, False,  True, False, False, False,\n",
        "       False, False,  True, False, False, False, False, False, False,\n",
        "       False, False,  True,  True,  True,  True,  True, False, False,\n",
        "        True, False,  True, False,  True,  True,  True, False, False,\n",
        "       False,  True,  True, False,  True, False, False, False,  True,\n",
        "        True, False,  True,  True,  True,  True,  True, False,  True,\n",
        "       False, False, False,  True,  True,  True, False,  True, False,\n",
        "       False, False,  True, False, False, False, False,  True,  True,\n",
        "       False,  True,  True, False, False, False, False,  True, False,\n",
        "       False,  True, False, False,  True,  True, False, False,  True,\n",
        "       False, False, False,  True, False, False,  True, False, False,\n",
        "        True,  True,  True, False, False, False,  True,  True,  True,\n",
        "       False,  True, False,  True,  True, False, False,  True, False,\n",
        "        True, False,  True,  True, False, False,  True,  True,  True,\n",
        "        True, False,  True,  True, False, False,  True,  True,  True,\n",
        "        True,  True,  True, False, False, False,  True,  True,  True,\n",
        "       False,  True,  True,  True, False,  True, False, False, False,\n",
        "        True, False, False, False,  True,  True, False, False,  True,\n",
        "        True,  True, False,  True,  True,  True,  True,  True, False,\n",
        "        True, False, False, False,  True, False, False, False,  True,\n",
        "       False,  True, False,  True,  True, False,  True,  True,  True,\n",
        "       False, False,  True,  True,  True,  True,  True, False,  True,\n",
        "        True, False,  True, False,  True,  True, False, False,  True,\n",
        "       False,  True,  True,  True, False,  True, False, False,  True,\n",
        "       False, False,  True,  True,  True, False, False,  True, False,\n",
        "       False,  True, False,  True,  True, False, False, False, False,\n",
        "       False, False,  True, False,  True, False,  True, False,  True,\n",
        "        True, False, False,  True, False, False,  True], dtype=bool)"
       ]
      }
     ],
     "prompt_number": 50
    },
    {
     "cell_type": "code",
     "collapsed": false,
     "input": [
      "np.where(d1>d2)[0]"
     ],
     "language": "python",
     "metadata": {},
     "outputs": [
      {
       "output_type": "pyout",
       "prompt_number": 52,
       "text": [
        "array([  1,   2,   5,  11,  20,  21,  22,  23,  24,  27,  29,  31,  32,\n",
        "        33,  37,  38,  40,  44,  45,  47,  48,  49,  50,  51,  53,  57,\n",
        "        58,  59,  61,  65,  70,  71,  73,  74,  79,  82,  85,  86,  89,\n",
        "        93,  96,  99, 100, 101, 105, 106, 107, 109, 111, 112, 115, 117,\n",
        "       119, 120, 123, 124, 125, 126, 128, 129, 132, 133, 134, 135, 136,\n",
        "       137, 141, 142, 143, 145, 146, 147, 149, 153, 157, 158, 161, 162,\n",
        "       163, 165, 166, 167, 168, 169, 171, 175, 179, 181, 183, 184, 186,\n",
        "       187, 188, 191, 192, 193, 194, 195, 197, 198, 200, 202, 203, 206,\n",
        "       208, 209, 210, 212, 215, 218, 219, 220, 223, 226, 228, 229, 236,\n",
        "       238, 240, 242, 243, 246, 249], dtype=int64)"
       ]
      }
     ],
     "prompt_number": 52
    },
    {
     "cell_type": "code",
     "collapsed": false,
     "input": [
      "data[\"assignment\"][np.where(d1>d2)[0]]=1"
     ],
     "language": "python",
     "metadata": {},
     "outputs": [],
     "prompt_number": 53
    },
    {
     "cell_type": "code",
     "collapsed": false,
     "input": [
      "data[\"assignment\"][np.where(d2>=d1)[0]]=2\n"
     ],
     "language": "python",
     "metadata": {},
     "outputs": [],
     "prompt_number": 54
    },
    {
     "cell_type": "code",
     "collapsed": false,
     "input": [
      "data[\"assignment\"]"
     ],
     "language": "python",
     "metadata": {},
     "outputs": [
      {
       "output_type": "pyout",
       "prompt_number": 55,
       "text": [
        "array([ 2.,  1.,  1.,  2.,  2.,  1.,  2.,  2.,  2.,  2.,  2.,  1.,  2.,\n",
        "        2.,  2.,  2.,  2.,  2.,  2.,  2.,  1.,  1.,  1.,  1.,  1.,  2.,\n",
        "        2.,  1.,  2.,  1.,  2.,  1.,  1.,  1.,  2.,  2.,  2.,  1.,  1.,\n",
        "        2.,  1.,  2.,  2.,  2.,  1.,  1.,  2.,  1.,  1.,  1.,  1.,  1.,\n",
        "        2.,  1.,  2.,  2.,  2.,  1.,  1.,  1.,  2.,  1.,  2.,  2.,  2.,\n",
        "        1.,  2.,  2.,  2.,  2.,  1.,  1.,  2.,  1.,  1.,  2.,  2.,  2.,\n",
        "        2.,  1.,  2.,  2.,  1.,  2.,  2.,  1.,  1.,  2.,  2.,  1.,  2.,\n",
        "        2.,  2.,  1.,  2.,  2.,  1.,  2.,  2.,  1.,  1.,  1.,  2.,  2.,\n",
        "        2.,  1.,  1.,  1.,  2.,  1.,  2.,  1.,  1.,  2.,  2.,  1.,  2.,\n",
        "        1.,  2.,  1.,  1.,  2.,  2.,  1.,  1.,  1.,  1.,  2.,  1.,  1.,\n",
        "        2.,  2.,  1.,  1.,  1.,  1.,  1.,  1.,  2.,  2.,  2.,  1.,  1.,\n",
        "        1.,  2.,  1.,  1.,  1.,  2.,  1.,  2.,  2.,  2.,  1.,  2.,  2.,\n",
        "        2.,  1.,  1.,  2.,  2.,  1.,  1.,  1.,  2.,  1.,  1.,  1.,  1.,\n",
        "        1.,  2.,  1.,  2.,  2.,  2.,  1.,  2.,  2.,  2.,  1.,  2.,  1.,\n",
        "        2.,  1.,  1.,  2.,  1.,  1.,  1.,  2.,  2.,  1.,  1.,  1.,  1.,\n",
        "        1.,  2.,  1.,  1.,  2.,  1.,  2.,  1.,  1.,  2.,  2.,  1.,  2.,\n",
        "        1.,  1.,  1.,  2.,  1.,  2.,  2.,  1.,  2.,  2.,  1.,  1.,  1.,\n",
        "        2.,  2.,  1.,  2.,  2.,  1.,  2.,  1.,  1.,  2.,  2.,  2.,  2.,\n",
        "        2.,  2.,  1.,  2.,  1.,  2.,  1.,  2.,  1.,  1.,  2.,  2.,  1.,\n",
        "        2.,  2.,  1.])"
       ]
      }
     ],
     "prompt_number": 55
    },
    {
     "cell_type": "code",
     "collapsed": false,
     "input": [
      "c1['x']=data['x'][np.where(d1>d2)[0]].mean()\n",
      "c1['y']=data['y'][np.where(d1>d2)[0]].mean()"
     ],
     "language": "python",
     "metadata": {},
     "outputs": [],
     "prompt_number": 56
    },
    {
     "cell_type": "code",
     "collapsed": false,
     "input": [
      "c2['x']=data['x'][np.where(d2>=d1)[0]].mean()\n",
      "c2['y']=data['y'][np.where(d2>=d1)[0]].mean()"
     ],
     "language": "python",
     "metadata": {},
     "outputs": [],
     "prompt_number": 57
    },
    {
     "cell_type": "code",
     "collapsed": false,
     "input": [
      "c2"
     ],
     "language": "python",
     "metadata": {},
     "outputs": [
      {
       "output_type": "pyout",
       "prompt_number": 58,
       "text": [
        "{'x': 0.30931934070866152, 'y': 0.44926746346456709}"
       ]
      }
     ],
     "prompt_number": 58
    },
    {
     "cell_type": "code",
     "collapsed": false,
     "input": [
      "c1"
     ],
     "language": "python",
     "metadata": {},
     "outputs": [
      {
       "output_type": "pyout",
       "prompt_number": 59,
       "text": [
        "{'x': -0.46726054203252027, 'y': 0.56124808024390238}"
       ]
      }
     ],
     "prompt_number": 59
    },
    {
     "cell_type": "code",
     "collapsed": false,
     "input": [],
     "language": "python",
     "metadata": {},
     "outputs": []
    }
   ],
   "metadata": {}
  }
 ]
}